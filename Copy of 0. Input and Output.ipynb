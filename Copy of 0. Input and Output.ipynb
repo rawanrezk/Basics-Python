{
 "cells": [
  {
   "cell_type": "markdown",
   "metadata": {
    "id": "w1irp_oRS7T5"
   },
   "source": [
    "> # Dear Epsilon Students, \n",
    "> # The More you practice The better You'll Be."
   ]
  },
  {
   "cell_type": "markdown",
   "metadata": {
    "id": "kaqLoxg_eVvl"
   },
   "source": []
  },
  {
   "cell_type": "markdown",
   "metadata": {
    "id": "9qWwX4gPS7T-"
   },
   "source": [
    "# Q.1 Given the radius of circle, print circumference of circle"
   ]
  },
  {
   "cell_type": "code",
   "execution_count": null,
   "metadata": {
    "colab": {
     "base_uri": "https://localhost:8080/"
    },
    "executionInfo": {
     "elapsed": 4313,
     "status": "ok",
     "timestamp": 1664139187868,
     "user": {
      "displayName": "Rawan Rezk",
      "userId": "17283990774853926055"
     },
     "user_tz": -120
    },
    "id": "CQawX0FPaA22",
    "outputId": "f3b69e67-334d-472a-cc58-ede35f256c77"
   },
   "outputs": [
    {
     "name": "stdout",
     "output_type": "stream",
     "text": [
      "please enter the radius: 22\n",
      " The circumference of the circle= 138.16\n"
     ]
    }
   ],
   "source": [
    "radius=float(input(\"please enter the radius: \"))\n",
    "circumference= 3.14 * 2 * radius\n",
    "print(\" The circumference of the circle=\",circumference)"
   ]
  },
  {
   "cell_type": "code",
   "execution_count": null,
   "metadata": {
    "id": "fIZ4Ir0nbBBP"
   },
   "outputs": [],
   "source": []
  },
  {
   "cell_type": "code",
   "execution_count": null,
   "metadata": {
    "id": "zN9sUdijbA1-"
   },
   "outputs": [],
   "source": []
  },
  {
   "cell_type": "markdown",
   "metadata": {
    "id": "2bmFq_n2S7UC"
   },
   "source": [
    "# Q.2 Given the width and heught of rectangle, print perimeter of rectangle"
   ]
  },
  {
   "cell_type": "code",
   "execution_count": null,
   "metadata": {
    "colab": {
     "base_uri": "https://localhost:8080/"
    },
    "executionInfo": {
     "elapsed": 4825,
     "status": "ok",
     "timestamp": 1664139817635,
     "user": {
      "displayName": "Rawan Rezk",
      "userId": "17283990774853926055"
     },
     "user_tz": -120
    },
    "id": "228X4ZQBTfuX",
    "outputId": "5a00c937-8e5c-4cfc-836a-60ebf91d2b7a"
   },
   "outputs": [
    {
     "name": "stdout",
     "output_type": "stream",
     "text": [
      "Enter the width: 2\n",
      "Enter the lenght: 2\n",
      "The perimeter of the rectangle= 8.0\n"
     ]
    }
   ],
   "source": [
    "width=float(input(\"Enter the width: \"))\n",
    "lenght=float(input(\"Enter the lenght: \"))\n",
    "perimeter=2*(width+lenght)\n",
    "print(\"The perimeter of the rectangle=\",perimeter)"
   ]
  },
  {
   "cell_type": "code",
   "execution_count": null,
   "metadata": {
    "id": "xDWk322sS7T_"
   },
   "outputs": [],
   "source": [
    "# Answer here \n"
   ]
  },
  {
   "cell_type": "code",
   "execution_count": null,
   "metadata": {
    "id": "QXgmjSnxS7UC"
   },
   "outputs": [],
   "source": [
    "# Answer here "
   ]
  },
  {
   "cell_type": "markdown",
   "metadata": {
    "id": "XOfqbVozS7UD"
   },
   "source": [
    "# <center> Thank's for your effort ❤️ </center> "
   ]
  }
 ],
 "metadata": {
  "colab": {
   "provenance": [
    {
     "file_id": "1kQimJPoC7luJo2i19nzVvWTaFsMuFfF1",
     "timestamp": 1664140186493
    }
   ]
  },
  "kernelspec": {
   "display_name": "Python 3 (ipykernel)",
   "language": "python",
   "name": "python3"
  },
  "language_info": {
   "codemirror_mode": {
    "name": "ipython",
    "version": 3
   },
   "file_extension": ".py",
   "mimetype": "text/x-python",
   "name": "python",
   "nbconvert_exporter": "python",
   "pygments_lexer": "ipython3",
   "version": "3.9.12"
  }
 },
 "nbformat": 4,
 "nbformat_minor": 1
}
