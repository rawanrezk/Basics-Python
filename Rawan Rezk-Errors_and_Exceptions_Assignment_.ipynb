{
 "cells": [
  {
   "cell_type": "markdown",
   "metadata": {
    "id": "16nKVv0mYHyp"
   },
   "source": [
    "> # Dear Epsilon Students, \n",
    "> # The More you practice The better You'll Be."
   ]
  },
  {
   "cell_type": "markdown",
   "metadata": {
    "id": "8XpZC6nDYHys"
   },
   "source": [
    "### Instructions: \n",
    "- Make sure that you understand this topics before you start.\n",
    "- If you found something hard to do, try and try then google it and finally ask someone. \n",
    "- You can divide this work into daily tasks so that you do not feel pressure.\n",
    "- After you finish, go to model answer and rate yourself. \n",
    "- If you find something ambiguous, Try to make a hypothesis to solve a problem. "
   ]
  },
  {
   "cell_type": "markdown",
   "metadata": {
    "id": "DY6tuEAcYHys"
   },
   "source": [
    "### Question classification: \n",
    "- Green is level 1 \n",
    "- Orange is level 2 \n",
    "- Red is level 3 "
   ]
  },
  {
   "cell_type": "markdown",
   "metadata": {
    "id": "O6w7hzWFYHyt"
   },
   "source": [
    "# <center> Let's start 💪 </center> "
   ]
  },
  {
   "cell_type": "markdown",
   "metadata": {
    "id": "Jgk637fYYHyt"
   },
   "source": [
    "## <p style=\"color:green;\">Q.01 Handle the exception thrown by the code below by using <code>try</code> and <code>except</code> blocks.</p>\n"
   ]
  },
  {
   "cell_type": "code",
   "execution_count": 3,
   "metadata": {
    "id": "qLoWMesZYHyt",
    "outputId": "3b392978-b9a0-47c4-b9c1-fdb7ec63aaca",
    "scrolled": true
   },
   "outputs": [
    {
     "name": "stdout",
     "output_type": "stream",
     "text": [
      "try again\n"
     ]
    }
   ],
   "source": [
    "\n",
    "\n",
    "try: \n",
    "    for i in ['a','b','c']:\n",
    "    \n",
    "         print(i**2)\n",
    "except TypeError :\n",
    "    print('try again')\n"
   ]
  },
  {
   "cell_type": "markdown",
   "metadata": {
    "id": "2pEeCmtAYHyv"
   },
   "source": [
    "## <p style=\"color:green;\">Q.02 Handle the exception thrown by the code below by using <code>try</code> and <code>except</code> blocks. Then use a <code>finally</code> block to print 'All Done.'</p>"
   ]
  },
  {
   "cell_type": "code",
   "execution_count": 3,
   "metadata": {
    "id": "IEA8YweQYHyv",
    "outputId": "7f6528a3-1b23-46b4-a5b3-f76a85dc0942"
   },
   "outputs": [
    {
     "name": "stdout",
     "output_type": "stream",
     "text": [
      "ZeroDivisionError, try again\n"
     ]
    }
   ],
   "source": [
    "# Answer here \n",
    "x = 5\n",
    "y = 0\n",
    "try:\n",
    "    \n",
    "    z = x/y\n",
    "except ZeroDivisionError :\n",
    "    print('ZeroDivisionError, try again')\n",
    "finally:\n",
    "      ('All Done')\n"
   ]
  },
  {
   "cell_type": "markdown",
   "metadata": {
    "id": "BgY_loKEYHyw"
   },
   "source": [
    "## <p style=\"color:green;\">Q.03 Write a function that asks for an integer and prints the square of it. Use a <code>while</code> loop with a <code>try</code>, <code>except</code>, <code>else</code> block to account for incorrect inputs.</p>"
   ]
  },
  {
   "cell_type": "code",
   "execution_count": 4,
   "metadata": {
    "id": "915qyg_yYHyw"
   },
   "outputs": [],
   "source": [
    "def ask():\n",
    "    while True:\n",
    "        try:\n",
    "            val = int(raw_input(\"Enter a number :\"))\n",
    "        except:\n",
    "            print(\"Enter a proper number\")\n",
    "            continue\n",
    "        else:\n",
    "            print (\"The square of the entered numer is :\", val**2)\n",
    "            break"
   ]
  },
  {
   "cell_type": "markdown",
   "metadata": {
    "id": "mAacv8WoYHyw"
   },
   "source": [
    "# <center> Thank's for your effort ❤️ </center> "
   ]
  }
 ],
 "metadata": {
  "colab": {
   "provenance": []
  },
  "kernelspec": {
   "display_name": "Python 3 (ipykernel)",
   "language": "python",
   "name": "python3"
  },
  "language_info": {
   "codemirror_mode": {
    "name": "ipython",
    "version": 3
   },
   "file_extension": ".py",
   "mimetype": "text/x-python",
   "name": "python",
   "nbconvert_exporter": "python",
   "pygments_lexer": "ipython3",
   "version": "3.9.12"
  }
 },
 "nbformat": 4,
 "nbformat_minor": 1
}
