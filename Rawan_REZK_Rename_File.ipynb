{
 "cells": [
  {
   "cell_type": "markdown",
   "id": "dcef06a8",
   "metadata": {},
   "source": [
    "## Make project like Thanos project with data (any 50 images) to read all files and rename these files with random names"
   ]
  },
  {
   "cell_type": "code",
   "execution_count": 1,
   "id": "46453458",
   "metadata": {},
   "outputs": [],
   "source": [
    "import random\n",
    "import os\n"
   ]
  },
  {
   "cell_type": "code",
   "execution_count": 2,
   "id": "13fbdf72",
   "metadata": {},
   "outputs": [],
   "source": [
    "path=r'C:\\Users\\Acer\\OneDrive\\Documents\\epslion\\photo'\n",
    "\n",
    "def rename (path):\n",
    "    names=os.listdir(path)\n",
    "    new_names=['img'+str(x)+'.png' for x in range (1,len(names)+1)]\n",
    "    for i in new_names:\n",
    "        img=random.choice(names)\n",
    "        os.rename(path+'\\\\'+img,path+'\\\\'+i)\n",
    "        names.remove(img)\n",
    "    "
   ]
  },
  {
   "cell_type": "code",
   "execution_count": 3,
   "id": "56a2de43",
   "metadata": {},
   "outputs": [],
   "source": [
    "rename(path)"
   ]
  },
  {
   "cell_type": "code",
   "execution_count": null,
   "id": "ce78c4af",
   "metadata": {},
   "outputs": [],
   "source": []
  },
  {
   "cell_type": "code",
   "execution_count": null,
   "id": "c55233dc",
   "metadata": {},
   "outputs": [],
   "source": []
  }
 ],
 "metadata": {
  "kernelspec": {
   "display_name": "Python 3 (ipykernel)",
   "language": "python",
   "name": "python3"
  },
  "language_info": {
   "codemirror_mode": {
    "name": "ipython",
    "version": 3
   },
   "file_extension": ".py",
   "mimetype": "text/x-python",
   "name": "python",
   "nbconvert_exporter": "python",
   "pygments_lexer": "ipython3",
   "version": "3.9.12"
  }
 },
 "nbformat": 4,
 "nbformat_minor": 5
}
