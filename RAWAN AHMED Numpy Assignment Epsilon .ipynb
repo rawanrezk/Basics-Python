{
 "cells": [
  {
   "cell_type": "markdown",
   "id": "dc9ac438",
   "metadata": {
    "id": "eeaeccc5"
   },
   "source": [
    "![image.png](attachment:image.png)"
   ]
  },
  {
   "cell_type": "markdown",
   "id": "30b4cb26",
   "metadata": {
    "id": "22e31e01"
   },
   "source": [
    "# Numpy"
   ]
  },
  {
   "cell_type": "markdown",
   "id": "9f1c3b38",
   "metadata": {
    "id": "180e4a24"
   },
   "source": [
    "Numpy is THE library for scientific computing and linear algebra in Python's community and was designed to give users the best of both worlds in programming languages: the speed of `C` language with the readability and elegance of `Python`."
   ]
  },
  {
   "cell_type": "markdown",
   "id": "478dfcd7",
   "metadata": {
    "id": "fbc83262"
   },
   "source": [
    "### Why Numpy?\n",
    "A question arises that why do we need NumPy when python lists are already there. The answer to it is we cannot perform operations on all the elements of two list directly. For example we cannot multiply two lists directly we will have to do it element wise. This is where the role of NumPy comes into play."
   ]
  },
  {
   "cell_type": "code",
   "execution_count": 1,
   "id": "79adec11",
   "metadata": {
    "id": "1449a0e7"
   },
   "outputs": [],
   "source": [
    "from numpy import *\n",
    "import numpy as np"
   ]
  },
  {
   "cell_type": "markdown",
   "id": "1bbde025",
   "metadata": {
    "id": "b6c43581"
   },
   "source": [
    "Very quick speed comparison to show the staggering difference in performance, don't bother about the code in the following cell."
   ]
  },
  {
   "cell_type": "code",
   "execution_count": 2,
   "id": "e5b0c675",
   "metadata": {
    "id": "582e5306"
   },
   "outputs": [],
   "source": [
    "import numpy as np\n",
    "import time\n",
    "import gc # garbage collection\n",
    "import sys\n",
    "\n",
    "\n",
    "def compare_times(f1, f2, setup1=None, setup2=None, runs=30):\n",
    "    print('    format: mean seconds (standard error)', runs, 'runs')\n",
    "    maxpad = max(len(f.__name__) for f in (f1, f2))\n",
    "    means = []\n",
    "    for setup, f in [[setup1, f1], [setup2, f2]]:\n",
    "        setup = (lambda: tuple()) if setup is None else setup\n",
    "        \n",
    "        total_times = []\n",
    "        for _ in range(runs):\n",
    "            try:\n",
    "                gc.disable()\n",
    "                args = setup()\n",
    "                \n",
    "                start = time.time()\n",
    "                if isinstance(args, tuple):\n",
    "                    f(*args)\n",
    "                else:\n",
    "                    f(args)\n",
    "                end = time.time()\n",
    "                \n",
    "                total_times.append(end - start)\n",
    "            finally:\n",
    "                gc.enable()\n",
    "                \n",
    "        mean = np.mean(total_times)\n",
    "        se = np.std(total_times) / np.sqrt(len(total_times))\n",
    "        print('    {} {:.2e} ({:.2e})'.format(f.__name__.ljust(maxpad), mean, se))\n",
    "        means.append(mean)\n",
    "    print('    improvement ratio {:.1f}'.format(means[0] / means[1]))"
   ]
  },
  {
   "cell_type": "code",
   "execution_count": 3,
   "id": "8f5de141",
   "metadata": {
    "id": "40ed697e",
    "outputId": "8930ec45-76f0-45ab-9e2a-3066725fc56d",
    "scrolled": true
   },
   "outputs": [
    {
     "name": "stdout",
     "output_type": "stream",
     "text": [
      "create a list 1, 2, ... 10000000\n",
      "    format: mean seconds (standard error) 30 runs\n",
      "    create_list  2.17e-01 (1.61e-03)\n",
      "    create_array 1.05e-02 (1.19e-04)\n",
      "    improvement ratio 20.8\n"
     ]
    }
   ],
   "source": [
    "size = 10 ** 7 \n",
    "print('create a list 1, 2, ...', size)\n",
    "\n",
    "\n",
    "def create_list(): return list(range(size))\n",
    "def create_array(): return np.arange(size, dtype=int)\n",
    "\n",
    "compare_times(create_list, create_array)"
   ]
  },
  {
   "cell_type": "code",
   "execution_count": 4,
   "id": "35a4a7ac",
   "metadata": {
    "colab": {
     "base_uri": "https://localhost:8080/"
    },
    "executionInfo": {
     "elapsed": 5321,
     "status": "ok",
     "timestamp": 1650443715902,
     "user": {
      "displayName": "karim hamdy",
      "userId": "11289720334155720749"
     },
     "user_tz": -120
    },
    "id": "5d81b28b",
    "outputId": "1626bee9-e926-468a-cdaf-c513b5d79375"
   },
   "outputs": [
    {
     "name": "stdout",
     "output_type": "stream",
     "text": [
      "2499853.3140337653\n",
      "Verctorize  : 79.79106903076172ms\n",
      "2499853.3140338575\n",
      "Loop version  : 3642.7013874053955ms\n",
      "Vectorization is faster by 45.652996402404774 times\n"
     ]
    }
   ],
   "source": [
    "import time\n",
    "num = 10000000\n",
    "a = np.random.random(num)\n",
    "b = np.random.random(num)\n",
    "\n",
    "star = time.time()\n",
    "c = np.dot(a,b)\n",
    "en = time.time()\n",
    "print(c)\n",
    "print(\"Verctorize  : \" +  str((en -star)*1000) + 'ms')\n",
    "\n",
    "d =0\n",
    "start = time.time()\n",
    "for i in range(num):\n",
    "    d += a[i]*b[i]\n",
    "end = time.time()\n",
    "\n",
    "print(d)\n",
    "print(\"Loop version  : \" +  str((end -start)*1000) + 'ms')\n",
    "print(\"Vectorization is faster by\" , (end -start)/(en -star) , 'times')"
   ]
  },
  {
   "cell_type": "markdown",
   "id": "73d66cdd",
   "metadata": {
    "id": "26313cc1"
   },
   "source": [
    "### Convinced about numpy powers? ... Now, let's practice!"
   ]
  },
  {
   "cell_type": "markdown",
   "id": "34fce79f",
   "metadata": {
    "executionInfo": {
     "elapsed": 13,
     "status": "ok",
     "timestamp": 1650533641180,
     "user": {
      "displayName": "karim hamdy",
      "userId": "11289720334155720749"
     },
     "user_tz": -120
    },
    "id": "9118500d"
   },
   "source": [
    "#### Q1: Create a 1D array of numbers from 0 to 9.\n"
   ]
  },
  {
   "cell_type": "code",
   "execution_count": 5,
   "id": "6946becc",
   "metadata": {},
   "outputs": [
    {
     "name": "stdout",
     "output_type": "stream",
     "text": [
      "[0 1 2 3 4 5 6 7 8 9]\n"
     ]
    }
   ],
   "source": [
    "import numpy as np\n",
    "arr=np.array([0,1,2,3,4,5,6,7,8,9])\n",
    "print(arr)"
   ]
  },
  {
   "cell_type": "markdown",
   "id": "caedf54f",
   "metadata": {
    "id": "66e14827",
    "outputId": "2d774aee-c0c4-41fa-cab3-3222c9b946ae"
   },
   "source": [
    "#### Q2: Extract all odd numbers from arr.\n"
   ]
  },
  {
   "cell_type": "code",
   "execution_count": 6,
   "id": "6a6383dc",
   "metadata": {},
   "outputs": [
    {
     "name": "stdout",
     "output_type": "stream",
     "text": [
      "Odd numbers: [1 3 5 7 9]\n"
     ]
    }
   ],
   "source": [
    "import numpy as np \n",
    "arr1=np.array([1,2,3,4,5,6,7,8,9])\n",
    "print('Odd numbers:',arr[1::2])\n"
   ]
  },
  {
   "cell_type": "markdown",
   "id": "ea86d054",
   "metadata": {
    "id": "e7109f7c",
    "outputId": "3dcf10dd-74ce-4e97-af9e-a6a113fa5325",
    "scrolled": true
   },
   "source": [
    "#### Q3: Replace all odd numbers in arr with -1.\n"
   ]
  },
  {
   "cell_type": "code",
   "execution_count": 7,
   "id": "2fdeffcf",
   "metadata": {},
   "outputs": [
    {
     "name": "stdout",
     "output_type": "stream",
     "text": [
      "Odd numbers: [-1  2 -1  4 -1  6 -1  8 -1]\n"
     ]
    }
   ],
   "source": [
    "import numpy as np \n",
    "arr1=np.array([1,2,3,4,5,6,7,8,9])\n",
    "Result = np.where(arr1%2 ==1, -1,arr1)\n",
    "print('Odd numbers:',Result)\n"
   ]
  },
  {
   "cell_type": "markdown",
   "id": "4682b437",
   "metadata": {
    "id": "000a0b32",
    "outputId": "c433746f-d447-4cf4-a644-f7783f82ef99"
   },
   "source": [
    "#### Q4: Convert a 1D array of length 10 to a 2D array with 2 rows\n"
   ]
  },
  {
   "cell_type": "code",
   "execution_count": 8,
   "id": "21d69291",
   "metadata": {},
   "outputs": [
    {
     "name": "stdout",
     "output_type": "stream",
     "text": [
      "[[ 1  2  3  4  5]\n",
      " [ 6  7  8  9 10]]\n"
     ]
    }
   ],
   "source": [
    "arr3=np.array([1,2,3,4,5,6,7,8,9,10])\n",
    "newarr=arr3.reshape(2,5)\n",
    "print(newarr)"
   ]
  },
  {
   "cell_type": "markdown",
   "id": "b50cebc9",
   "metadata": {
    "id": "3bd85240",
    "outputId": "a65b17fe-39ec-4d6d-bc5c-0d3d586c61c7"
   },
   "source": [
    "#### Q5: compute the square root for each element in the  array\n",
    "#### ([[1, 2, 3],[2, 3, 4],[4, 5, 6]])\n"
   ]
  },
  {
   "cell_type": "code",
   "execution_count": 9,
   "id": "03d2b7e4",
   "metadata": {},
   "outputs": [
    {
     "name": "stdout",
     "output_type": "stream",
     "text": [
      "[[1.         1.41421356 1.73205081]\n",
      " [1.41421356 1.73205081 2.        ]\n",
      " [2.         2.23606798 2.44948974]]\n"
     ]
    }
   ],
   "source": [
    "arr4=np.array([[1, 2, 3],[2, 3, 4],[4, 5, 6]])\n",
    "sq=np.sqrt(arr4)\n",
    "print(sq)"
   ]
  },
  {
   "cell_type": "markdown",
   "id": "5e41d308",
   "metadata": {
    "id": "40b93eb4",
    "outputId": "29b031b9-340a-46ce-f99a-71e45e965cfc"
   },
   "source": [
    "#### Q6: compute the exponential for each element in the above array\n"
   ]
  },
  {
   "cell_type": "code",
   "execution_count": 10,
   "id": "2cbc22ba",
   "metadata": {},
   "outputs": [
    {
     "name": "stdout",
     "output_type": "stream",
     "text": [
      "[[  2.71828183   7.3890561   20.08553692]\n",
      " [  7.3890561   20.08553692  54.59815003]\n",
      " [ 54.59815003 148.4131591  403.42879349]]\n"
     ]
    }
   ],
   "source": [
    "arr4=np.array([[1, 2, 3],[2, 3, 4],[4, 5, 6]])\n",
    "sq=np.exp(arr4)\n",
    "print(sq)"
   ]
  },
  {
   "cell_type": "markdown",
   "id": "de441d49",
   "metadata": {
    "id": "5f553e3a",
    "outputId": "30df687b-b74a-43a5-963d-4a43fa70fbd6"
   },
   "source": [
    "#### Q7: sample 8 elements from uniform dist ([0, 1)\n"
   ]
  },
  {
   "cell_type": "code",
   "execution_count": 11,
   "id": "a38f8656",
   "metadata": {},
   "outputs": [
    {
     "name": "stdout",
     "output_type": "stream",
     "text": [
      "[[0.00317065 0.60838314 0.80262049 0.3147239 ]\n",
      " [0.29975854 0.1966741  0.68999922 0.20280749]]\n"
     ]
    }
   ],
   "source": [
    "x = random.uniform(size=(2, 4))\n",
    "print(x)"
   ]
  },
  {
   "cell_type": "markdown",
   "id": "9fbcf9e7",
   "metadata": {},
   "source": [
    "#### Q8: Write a NumPy program to create a vector of length 5 filled with arbitrary integers from 0 to 10."
   ]
  },
  {
   "cell_type": "markdown",
   "id": "a0329bcb",
   "metadata": {},
   "source": []
  },
  {
   "cell_type": "code",
   "execution_count": 12,
   "id": "a5f81005",
   "metadata": {},
   "outputs": [
    {
     "name": "stdout",
     "output_type": "stream",
     "text": [
      "vector of length 5 filled with arbitrary integers from 0 to 10: [ 7 10  8  6  8]\n"
     ]
    }
   ],
   "source": [
    "arrx = np.random.randint(0, 11, 5)\n",
    "print(\"vector of length 5 filled with arbitrary integers from 0 to 10:\",arrx)\n"
   ]
  },
  {
   "cell_type": "markdown",
   "id": "25bb4344",
   "metadata": {},
   "source": [
    "#### Q9: Write a NumPy program to create a 3x4 matrix filled with values from 10 to 21"
   ]
  },
  {
   "cell_type": "code",
   "execution_count": 13,
   "id": "c0263456",
   "metadata": {},
   "outputs": [
    {
     "name": "stdout",
     "output_type": "stream",
     "text": [
      "[[10 11 12 13]\n",
      " [14 15 16 17]\n",
      " [18 19 20 21]]\n"
     ]
    }
   ],
   "source": [
    "import numpy as np\n",
    "arr= np.arange(10,22).reshape((3, 4))\n",
    "print(arr)\n"
   ]
  },
  {
   "cell_type": "markdown",
   "id": "6fea6f67",
   "metadata": {},
   "source": [
    "#### Q10: Write a NumPy program to create a vector of length 10 with values evenly distributed between 5 and 50."
   ]
  },
  {
   "cell_type": "code",
   "execution_count": 14,
   "id": "7a67f1c5",
   "metadata": {},
   "outputs": [
    {
     "name": "stdout",
     "output_type": "stream",
     "text": [
      "[10. 20. 30. 40. 50.]\n"
     ]
    }
   ],
   "source": [
    "arr= np.linspace(10, 50, 5)\n",
    "print(arr)"
   ]
  },
  {
   "cell_type": "markdown",
   "id": "356e0733",
   "metadata": {},
   "source": [
    "#### Q11: Write a NumPy program to create an array of all the even integers from 30 to 70."
   ]
  },
  {
   "cell_type": "code",
   "execution_count": 15,
   "id": "961d9569",
   "metadata": {},
   "outputs": [
    {
     "name": "stdout",
     "output_type": "stream",
     "text": [
      "[30 32 34 36 38 40 42 44 46 48 50 52 54 56 58 60 62 64 66 68 70]\n"
     ]
    }
   ],
   "source": [
    "arr=np.arange(30,71,2)\n",
    "print(arr)"
   ]
  },
  {
   "cell_type": "markdown",
   "id": "7dbf4fa5",
   "metadata": {},
   "source": [
    "#### Q12: Write a NumPy program to check whether two arrays are equal (element wise) or not"
   ]
  },
  {
   "cell_type": "code",
   "execution_count": 16,
   "id": "d0502135",
   "metadata": {},
   "outputs": [
    {
     "name": "stdout",
     "output_type": "stream",
     "text": [
      "[ True  True  True  True False False]\n",
      "[ True False False False False False]\n"
     ]
    }
   ],
   "source": [
    "nums1 = np.array([1,2,3,4,5,6])\n",
    "nums2 = np.array([1,2,3,4,9,8])\n",
    "np.set_printoptions(precision=15)\n",
    "print(nums1 == nums2)\n",
    "nums1 = np.array([1,2,2,6,5,6])\n",
    "nums2 = np.array([1,9,8,7,9,8])\n",
    "np.set_printoptions(precision=15)\n",
    "print(np.equal(nums1, nums2))"
   ]
  },
  {
   "cell_type": "markdown",
   "id": "d39f1fda",
   "metadata": {
    "id": "1bcea8d0"
   },
   "source": [
    "* further reading: [visit here](https://www.w3resource.com/python-exercises/numpy/index.php)"
   ]
  }
 ],
 "metadata": {
  "colab": {
   "name": "Numpy Assignment Epsilon.ipynb",
   "provenance": []
  },
  "kernelspec": {
   "display_name": "Python 3 (ipykernel)",
   "language": "python",
   "name": "python3"
  },
  "language_info": {
   "codemirror_mode": {
    "name": "ipython",
    "version": 3
   },
   "file_extension": ".py",
   "mimetype": "text/x-python",
   "name": "python",
   "nbconvert_exporter": "python",
   "pygments_lexer": "ipython3",
   "version": "3.9.12"
  }
 },
 "nbformat": 4,
 "nbformat_minor": 5
}
