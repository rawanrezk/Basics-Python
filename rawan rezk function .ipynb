{
 "cells": [
  {
   "cell_type": "markdown",
   "metadata": {
    "id": "ERQqyrFgawFa"
   },
   "source": [
    "> # Dear Epsilon Students, \n",
    "> # The More you practice The better You'll Be."
   ]
  },
  {
   "cell_type": "markdown",
   "metadata": {
    "id": "kZploScXawFd"
   },
   "source": [
    "### Instructions: \n",
    "- Make sure that you understand this topics before you start.\n",
    "- If you found something hard to do, try and try then google it and finally ask someone. \n",
    "- You can divide this work into daily tasks so that you do not feel pressure.\n",
    "- After you finish, go to model answer and rate yourself. \n",
    "- If you find something ambiguous, Try to make a hypothesis to solve a problem. "
   ]
  },
  {
   "cell_type": "markdown",
   "metadata": {
    "id": "s9Rljh0WawFd"
   },
   "source": [
    "### Question classification: \n",
    "- Green is level 1 \n",
    "- Orange is level 2 \n",
    "- Red is level 3 "
   ]
  },
  {
   "cell_type": "markdown",
   "metadata": {
    "id": "4lddq3aiawFe"
   },
   "source": [
    "# <center> Let's start 💪 </center> "
   ]
  },
  {
   "cell_type": "markdown",
   "metadata": {
    "id": "WLxE4IVIawFe"
   },
   "source": [
    "## <p style=\"color:green;\">Q.01 Write a function takes a two-word string and returns True if both words begin with same letter</p>\n",
    "> ('Levelheaded Llama') → True\n",
    "\n",
    "> ('Crazy Kangaroo') → False"
   ]
  },
  {
   "cell_type": "code",
   "execution_count": 17,
   "metadata": {
    "id": "pWm5DA47awFe"
   },
   "outputs": [
    {
     "name": "stdout",
     "output_type": "stream",
     "text": [
      "True\n",
      "False\n"
     ]
    }
   ],
   "source": [
    "def animal(string):\n",
    "    s1, s2 = string.split(' ')\n",
    "    print(s1[0].upper() == s2[0].upper())\n",
    "\n",
    "animal(\"levelheaded Llama\")\n",
    "animal('crazy kangaroo')"
   ]
  },
  {
   "cell_type": "markdown",
   "metadata": {
    "id": "uUh_7rBOawFf"
   },
   "source": [
    "## <p style=\"color:green;\">Q.02 Write a function that returns the lesser of two given numbers if both numbers are even, but returns the greater if one or both numbers are odd</p>\n",
    "\n",
    "> (2,4) → 2\n",
    "\n",
    "> (2,5) → 5"
   ]
  },
  {
   "cell_type": "code",
   "execution_count": 27,
   "metadata": {
    "id": "FDqZpQJkawFg"
   },
   "outputs": [
    {
     "name": "stdout",
     "output_type": "stream",
     "text": [
      "2\n",
      "7\n"
     ]
    }
   ],
   "source": [
    "def num(n1,n2):\n",
    "    if (n1%2 and n2%2)==0:\n",
    "        if n1<n2:\n",
    "            print(n1)\n",
    "        else:\n",
    "            print(n2)\n",
    "    elif (n1%2 and n2%2)!=0:\n",
    "        if n1 >n2:\n",
    "            print(n1)\n",
    "        else:\n",
    "            print(n2)\n",
    "num(2,4)\n",
    "num(7,8)"
   ]
  },
  {
   "cell_type": "markdown",
   "metadata": {
    "id": "jBp5s7B-awFg"
   },
   "source": [
    "## <p style=\"color:green;\">Q.03 Write a function that capitalizes the first and fourth letters of a name</p>\n",
    "> ('macdonald') → MacDonald"
   ]
  },
  {
   "cell_type": "code",
   "execution_count": 45,
   "metadata": {
    "id": "gbT9BWvgawFh"
   },
   "outputs": [
    {
     "data": {
      "text/plain": [
       "'MacDonald'"
      ]
     },
     "execution_count": 45,
     "metadata": {},
     "output_type": "execute_result"
    }
   ],
   "source": [
    "def macdonald(c):\n",
    "    mylist = list(c)\n",
    "    mylist[0] = mylist[0].upper()\n",
    "    mylist[3] = mylist[3].upper()\n",
    "    return ''.join(mylist)\n",
    "macdonald('macdonald')\n"
   ]
  },
  {
   "cell_type": "markdown",
   "metadata": {
    "id": "4jfNpA4mawFh"
   },
   "source": [
    "## <p style=\"color:green;\">Q.04 Given a sentence, return a sentence with the words reversed</p>\n",
    "> ('I am home') → 'home am I'"
   ]
  },
  {
   "cell_type": "code",
   "execution_count": 55,
   "metadata": {
    "id": "u2DLQSMaawFh"
   },
   "outputs": [
    {
     "data": {
      "text/plain": [
       "'emoh ma i '"
      ]
     },
     "execution_count": 55,
     "metadata": {},
     "output_type": "execute_result"
    }
   ],
   "source": [
    "def reverse_list(s):\n",
    "    temp_list = list(s)\n",
    "    temp_list.reverse()\n",
    "    return ''.join(temp_list)\n",
    "reverse_list(' i am home')"
   ]
  },
  {
   "cell_type": "markdown",
   "metadata": {
    "id": "NJelXC0KawFh"
   },
   "source": [
    "## <p style=\"color:orange;\">Q.05 Given a list of ints, return True if the array contains a 3 next to a 3 somewhere.</p>\n",
    "> has_33([1, 3, 3]) → True\n",
    "\n",
    "> has_33([1, 3, 1, 3]) → False\n"
   ]
  },
  {
   "cell_type": "code",
   "execution_count": 61,
   "metadata": {
    "id": "Yz7dmzSBawFi"
   },
   "outputs": [
    {
     "data": {
      "text/plain": [
       "True"
      ]
     },
     "execution_count": 61,
     "metadata": {},
     "output_type": "execute_result"
    }
   ],
   "source": [
    "def has_33(x):\n",
    "    for i in range(len(x)-1):\n",
    "        if x[i:i+2] == [3,3]:\n",
    "            return True\n",
    "    return False\n",
    "has_33([1, 3, 3])\n",
    "\n",
    "\n",
    "\n",
    "\n",
    "\n"
   ]
  },
  {
   "cell_type": "markdown",
   "metadata": {
    "id": "ebfcEymPawFi"
   },
   "source": [
    "## <p style=\"color:orange;\">Q.06 BLACKJACK: Given three integers between 1 and 11, if their sum is less than or equal to 21, return their sum. If their sum exceeds 21 and there's an eleven, reduce the total sum by 10. Finally, if the sum (even after adjustment) exceeds 21, return 'BUST'¶</p>\n",
    "\n",
    ">blackjack(5,6,7) → 18\n",
    "\n",
    ">blackjack(9,9,9) → 'BUST'\n",
    "\n",
    ">blackjack(9,9,11) → 19"
   ]
  },
  {
   "cell_type": "code",
   "execution_count": 80,
   "metadata": {
    "id": "c375HvwdawFi"
   },
   "outputs": [
    {
     "data": {
      "text/plain": [
       "19"
      ]
     },
     "execution_count": 80,
     "metadata": {},
     "output_type": "execute_result"
    }
   ],
   "source": [
    "def blackjack(x,y,z):\n",
    "    summ=x+y+z\n",
    "    for i in range (0,12):\n",
    "    \n",
    "        if summ <= 21:\n",
    "            return summ\n",
    "        elif summ > 21 and 11 in (x,y,z):\n",
    "            total=summ-10\n",
    "            \n",
    "            if total > 21:    \n",
    "                return 'Bust' \n",
    "            else:         \n",
    "                return total   \n",
    "        else: \n",
    "            return 'Bust'\n",
    "\n",
    "\n",
    "\n",
    "\n",
    "blackjack(9,9,11)\n"
   ]
  },
  {
   "cell_type": "markdown",
   "metadata": {
    "id": "f_ue1Wa2awFi"
   },
   "source": [
    "## <p style=\"color:red;\">Q.07 SUMMER OF '69: Return the sum of the numbers in the array, except ignore sections of numbers starting with a 6 and extending to the next 9 (every 6 will be followed by at least one 9). Return 0 for no numbers.</p>\n",
    ">summer_69([1, 3, 5]) → 9\n",
    "\n",
    ">summer_69([4, 5, 6, 7, 8, 9]) → 9\n",
    "\n",
    ">summer_69([2, 1, 6, 9, 11]) → 14"
   ]
  },
  {
   "cell_type": "code",
   "execution_count": 81,
   "metadata": {
    "id": "ILy95CeyawFj"
   },
   "outputs": [
    {
     "data": {
      "text/plain": [
       "9"
      ]
     },
     "execution_count": 81,
     "metadata": {},
     "output_type": "execute_result"
    }
   ],
   "source": [
    "def summer_69(lst):\n",
    "    it = iter(lst)\n",
    "    return sum(x for x in it\n",
    "               if x != 6 or 9 not in it)\n",
    "\n",
    "summer_69([1, 3, 5])"
   ]
  },
  {
   "cell_type": "markdown",
   "metadata": {
    "id": "pZoXA6R6awFj"
   },
   "source": [
    "## <p style=\"color:red;\">Q.08 SPY GAME: Write a function that takes in a list of integers and returns True if it contains 007 in order</p>\n",
    "\n",
    ">spy_game([1,2,4,0,0,7,5]) → True\n",
    "\n",
    "> spy_game([1,0,2,4,0,5,7]) → True\n",
    "\n",
    " >spy_game([1,7,2,0,4,5,0]) → False\n"
   ]
  },
  {
   "cell_type": "code",
   "execution_count": 92,
   "metadata": {
    "id": "6GDEDs6kawFj"
   },
   "outputs": [
    {
     "data": {
      "text/plain": [
       "False"
      ]
     },
     "execution_count": 92,
     "metadata": {},
     "output_type": "execute_result"
    }
   ],
   "source": [
    "def spy_game(nums):\n",
    "    for i in range(0,len(nums)):\n",
    "        if nums[i] == 0:\n",
    "            for x in range(i+1,len(nums)):\n",
    "                if nums[x] == 0:\n",
    "                    for y in range(x+1,len(nums)):\n",
    "                        if nums[y] == 7:\n",
    "                            return True\n",
    "                else:\n",
    "                    return False\n",
    "spy_game([1,7,2,0,4,5,0])"
   ]
  },
  {
   "cell_type": "markdown",
   "metadata": {
    "id": "IDyuQM2YawFj"
   },
   "source": [
    "## <p style=\"color:green;\">Q.09 Write a function that checks whether a number is in a given range (inclusive of high and low)</p>\n"
   ]
  },
  {
   "cell_type": "code",
   "execution_count": 2,
   "metadata": {
    "id": "NcaRHfUeawFj"
   },
   "outputs": [
    {
     "name": "stdout",
     "output_type": "stream",
     "text": [
      "100 is in range\n"
     ]
    }
   ],
   "source": [
    "def check(num,low,high):\n",
    "    \n",
    "    if num in range(low,high):\n",
    "        print(num,'is in range')\n",
    "    else:\n",
    "        print(num,'is out of the range')\n",
    "check(100,90,200)"
   ]
  },
  {
   "cell_type": "markdown",
   "metadata": {
    "id": "LG9voZOIawFk"
   },
   "source": [
    "## <p style=\"color:orange;\">Q.10 Write a Python function to multiply all the numbers in a list.</p>\n",
    "> Sample List : [1, 2, 3, -4]\n",
    "\n",
    "> Expected Output : -24"
   ]
  },
  {
   "cell_type": "code",
   "execution_count": 3,
   "metadata": {
    "id": "Pk15CcJsawFk"
   },
   "outputs": [
    {
     "name": "stdout",
     "output_type": "stream",
     "text": [
      "-24\n"
     ]
    }
   ],
   "source": [
    "def multiplyList(myList):\n",
    " \n",
    "    # Multiply elements one by one\n",
    "    result = 1\n",
    "    for x in myList:\n",
    "        result = result * x\n",
    "    return result\n",
    " \n",
    "list1 = [1, 2, 3,-4]\n",
    "\n",
    "print(multiplyList(list1))\n",
    "\n"
   ]
  },
  {
   "cell_type": "markdown",
   "metadata": {
    "id": "hAKH4g5BawFk"
   },
   "source": [
    "## <p style=\"color:red;\">Q.11 Write a Python function that checks whether a passed string is palindrome or not.</p>\n",
    ">Note: A palindrome is word, phrase, or sequence that reads the same backward as forward, e.g., madam or nurses run."
   ]
  },
  {
   "cell_type": "code",
   "execution_count": 5,
   "metadata": {
    "id": "L6E2wEgJawFk"
   },
   "outputs": [
    {
     "name": "stdout",
     "output_type": "stream",
     "text": [
      "No\n"
     ]
    }
   ],
   "source": [
    "def isPalindrome(s):\n",
    " \n",
    "    rev = ''.join(reversed(s))\n",
    " \n",
    "    \n",
    "    if (s == rev):\n",
    "        return True\n",
    "    return False\n",
    " \n",
    "s = \"mdflmfkbl\"\n",
    "ans = isPalindrome(s)\n",
    " \n",
    "if (ans):\n",
    "    print(\"Yes\")\n",
    "else:\n",
    "    print(\"No\")\n",
    "\n"
   ]
  },
  {
   "cell_type": "markdown",
   "metadata": {
    "id": "cj6uSvraawFk"
   },
   "source": [
    "## <p style=\"color:green;\">Q.12 Write a Python program to create a lambda function that adds 15 to a given number passed in as an argument\n"
   ]
  },
  {
   "cell_type": "code",
   "execution_count": 1,
   "metadata": {
    "id": "ybUqXc-7awFk"
   },
   "outputs": [
    {
     "data": {
      "text/plain": [
       "30"
      ]
     },
     "execution_count": 1,
     "metadata": {},
     "output_type": "execute_result"
    }
   ],
   "source": [
    "\n",
    "add=lambda n : n+15 \n",
    "add(15)"
   ]
  },
  {
   "cell_type": "markdown",
   "metadata": {
    "id": "WET_ptiBawFk"
   },
   "source": [
    "## <p style=\"color:green;\">Q.13 create a lambda function that multiplies argument x with argument y and print the result.</p>\n"
   ]
  },
  {
   "cell_type": "code",
   "execution_count": 5,
   "metadata": {
    "id": "-1y7T5GdawFl"
   },
   "outputs": [
    {
     "data": {
      "text/plain": [
       "235787575296"
      ]
     },
     "execution_count": 5,
     "metadata": {},
     "output_type": "execute_result"
    }
   ],
   "source": [
    "mult= lambda a,b : a*b\n",
    "mult(126464,1864464)\n"
   ]
  },
  {
   "cell_type": "markdown",
   "metadata": {
    "id": "zc-seeeMawFl"
   },
   "source": [
    "## <p style=\"color:orange;\">Q.14 Write a Python program to filter a list of integers using Lambda. </p>\n",
    "> Original list of integers:[1, 2, 3, 4, 5, 6, 7, 8, 9, 10]\n",
    "\n",
    "> Even numbers from the said list:[2, 4, 6, 8, 10]\n",
    "\n",
    "> Odd numbers from the said list:[1, 3, 5, 7, 9]\n"
   ]
  },
  {
   "cell_type": "code",
   "execution_count": 2,
   "metadata": {
    "id": "bdv-_bfOawFl"
   },
   "outputs": [
    {
     "name": "stdout",
     "output_type": "stream",
     "text": [
      "Even numbers from the said list [2, 4, 6, 8, 10]\n"
     ]
    }
   ],
   "source": [
    "Originallistofintegers=[1, 2, 3, 4, 5, 6, 7, 8, 9, 10]\n",
    "result1= list(filter(lambda x : (x%2==0),Originallistofintegers))\n",
    "result2= list(filter(lambda x : (x%2!=0),Originallistofintegers))\n",
    "\n",
    "print('Even numbers from the said list' ,result1)\n",
    "print('Odd numbers from the said list:')\n",
    "\n",
    "\n",
    "\n"
   ]
  },
  {
   "cell_type": "markdown",
   "metadata": {
    "id": "g53VwS4RawFl"
   },
   "source": [
    "## <p style=\"color:green;\">Q.15 Write a Python program to triple all numbers of a given list of integers. Use Python map.</p>\n"
   ]
  },
  {
   "cell_type": "code",
   "execution_count": 11,
   "metadata": {
    "id": "VjpWd7lgawFl"
   },
   "outputs": [
    {
     "data": {
      "text/plain": [
       "{1, 8, 27, 64, 125, 216, 343, 512, 729, 1000}"
      ]
     },
     "execution_count": 11,
     "metadata": {},
     "output_type": "execute_result"
    }
   ],
   "source": [
    "def power(x):\n",
    "    return x**3\n",
    "list(map(power,[1,2,3,4,5,6,7,8,9,10]))\n",
    "#OR\n",
    "set(map(power,[1,2,3,4,5,6,7,8,9,10]))\n"
   ]
  },
  {
   "cell_type": "markdown",
   "metadata": {
    "id": "ZYmNUb0tawFl"
   },
   "source": [
    "## <p style=\"color:orange;\">Q.16 Write a Python program to add three given lists using Python map and lambda.\n",
    "\n",
    "</p>\n"
   ]
  },
  {
   "cell_type": "code",
   "execution_count": 5,
   "metadata": {
    "id": "W4EZrUltawFl"
   },
   "outputs": [
    {
     "name": "stdout",
     "output_type": "stream",
     "text": [
      "the oringinal first list:  [1, 2, 3, 4, 5]\n",
      "second list:   [5, 6, 7, 8, 9, 10]\n",
      "third list:  [11, 12, 13, 14, 15, 16, 17]\n",
      "Add three given lists\n",
      "[17, 20, 23, 26, 29]\n"
     ]
    }
   ],
   "source": [
    "lst1=[1,2,3,4,5]\n",
    "lst2=[5,6,7,8,9,10]\n",
    "lst3=[11,12,13,14,15,16,17]\n",
    "\n",
    "print('the oringinal first list: ' ,lst1)\n",
    "print('second list:  ',lst2)\n",
    "print('third list: ',lst3)\n",
    "\n",
    "print('Add three given lists')\n",
    "\n",
    "\n",
    "add=map(lambda x,y,z :x+y+z, lst1,lst2,lst3)\n",
    "\n",
    "\n",
    "print(list(add))"
   ]
  },
  {
   "cell_type": "markdown",
   "metadata": {
    "id": "WXAVoVwZawFl"
   },
   "source": [
    "## <p style=\"color:orange;\">Q.17 Write a Python program to square the elements of a list using map() function.</p>\n"
   ]
  },
  {
   "cell_type": "code",
   "execution_count": 7,
   "metadata": {
    "id": "E0agkNTlawFm"
   },
   "outputs": [
    {
     "name": "stdout",
     "output_type": "stream",
     "text": [
      " oringinal list is  [1, 2, 3, 4, 5]\n",
      "square the elements of a list \n",
      "[1, 4, 27, 256, 3125]\n"
     ]
    }
   ],
   "source": [
    "lst=[1,2,3,4,5]\n",
    "\n",
    "print(' oringinal list is ',lst)\n",
    "print('square the elements of a list ')\n",
    "\n",
    "result=map(lambda lst : lst**lst , lst)\n",
    "print(list(result))\n"
   ]
  },
  {
   "cell_type": "markdown",
   "metadata": {
    "id": "8vJxpmTGawFm"
   },
   "source": [
    "## <p style=\"color:green;\">Q.18 Using filter() function filter the list so that only negative numbers are left.</p>\n",
    "> lst1  [12,-1,9,8,-.5,-.2,-100]\n"
   ]
  },
  {
   "cell_type": "code",
   "execution_count": 18,
   "metadata": {
    "id": "R-yGuBl4awFm"
   },
   "outputs": [
    {
     "name": "stdout",
     "output_type": "stream",
     "text": [
      "The oraginal list [12, -1, 9, 8, -0.5, -0.2, -100]\n",
      " the new list after filter [12, 9, 8]\n"
     ]
    }
   ],
   "source": [
    "lst1= [12,-1,9,8,-.5,-.2,-100]\n",
    "print('The oraginal list',lst1)\n",
    "\n",
    "lst=list(filter(lambda x : x > 0 ,lst1))\n",
    "print(' the new list after filter',lst)"
   ]
  },
  {
   "cell_type": "markdown",
   "metadata": {
    "id": "qnj99u7nawFm"
   },
   "source": [
    "## <p style=\"color:green;\">Q.19 Using filter function, filter the even numbers so that only odd numbers are passed to the new list.</p>\n",
    "> lst1  [22,100,19,13,11,1,4,66]\n"
   ]
  },
  {
   "cell_type": "code",
   "execution_count": 17,
   "metadata": {
    "id": "xnYdTW6oawFm"
   },
   "outputs": [
    {
     "name": "stdout",
     "output_type": "stream",
     "text": [
      "the originai list  [22, 100, 19, 13, 11, 1, 4, 66]\n",
      "The new list that include only the odd numbers [19, 13, 11, 1]\n"
     ]
    }
   ],
   "source": [
    "lst1= [22,100,19,13,11,1,4,66]\n",
    "print('the originai list ', lst1)\n",
    "\n",
    "newlst=list(filter(lambda x: x%2!=0,lst1))\n",
    "\n",
    "print('The new list that include only the odd numbers',newlst)"
   ]
  },
  {
   "cell_type": "markdown",
   "metadata": {
    "id": "mxe88O3oawFm"
   },
   "source": [
    "## <p style=\"color:green;\">Q.20 Using map() and filter() functions add 2000 to the values below 8000.</p>\n",
    "> lst [1000,500,600,700,5000,90000,17500]"
   ]
  },
  {
   "cell_type": "code",
   "execution_count": 5,
   "metadata": {
    "id": "vRbWHVaxawFm"
   },
   "outputs": [
    {
     "name": "stdout",
     "output_type": "stream",
     "text": [
      "the original list [1000, 500, 600, 700, 5000, 90000, 17500]\n"
     ]
    },
    {
     "data": {
      "text/plain": [
       "[1000, 500, 600, 700, 5000, 2000]"
      ]
     },
     "execution_count": 5,
     "metadata": {},
     "output_type": "execute_result"
    }
   ],
   "source": [
    "lst1=[1000,500,600,700,5000,90000,17500]\n",
    "add=[2000]\n",
    "print('the original list',lst1)\n",
    "\n",
    "list(filter(lambda x: x<8000 ,lst1+add ) )\n",
    "\n",
    "\n",
    "\n"
   ]
  },
  {
   "cell_type": "markdown",
   "metadata": {
    "id": "szp8_NgRawFm"
   },
   "source": [
    "# <center> Thank's for your effort ❤️ </center> "
   ]
  },
  {
   "cell_type": "code",
   "execution_count": null,
   "metadata": {},
   "outputs": [],
   "source": []
  }
 ],
 "metadata": {
  "colab": {
   "provenance": []
  },
  "kernelspec": {
   "display_name": "Python 3 (ipykernel)",
   "language": "python",
   "name": "python3"
  },
  "language_info": {
   "codemirror_mode": {
    "name": "ipython",
    "version": 3
   },
   "file_extension": ".py",
   "mimetype": "text/x-python",
   "name": "python",
   "nbconvert_exporter": "python",
   "pygments_lexer": "ipython3",
   "version": "3.9.12"
  }
 },
 "nbformat": 4,
 "nbformat_minor": 1
}
