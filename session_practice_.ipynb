{
 "cells": [
  {
   "cell_type": "markdown",
   "id": "f893b059",
   "metadata": {},
   "source": [
    "# Q.1 Given the Length of base and height, print are of rectangle"
   ]
  },
  {
   "cell_type": "code",
   "execution_count": 1,
   "id": "783ef2e2",
   "metadata": {},
   "outputs": [
    {
     "name": "stdout",
     "output_type": "stream",
     "text": [
      "5\n",
      "5\n"
     ]
    }
   ],
   "source": [
    "lenght=int(input())\n",
    "height=int(input())\n",
    "result_area=lenght*height\n",
    "result_mohet=2*(lenght+height)\n",
    "print=(\"the result=\",result_area,\"the result= \",result_mohet)"
   ]
  },
  {
   "cell_type": "markdown",
   "id": "41d73c5e",
   "metadata": {},
   "source": [
    "# Q.2 Python Program to Find the Square Root"
   ]
  },
  {
   "cell_type": "code",
   "execution_count": 5,
   "id": "e17ceda0",
   "metadata": {},
   "outputs": [
    {
     "name": "stdout",
     "output_type": "stream",
     "text": [
      "55\n"
     ]
    }
   ],
   "source": [
    "n1=float(input())\n",
    "sq=n1**0.5\n",
    "print=(\"enter the result\",sq)"
   ]
  },
  {
   "cell_type": "markdown",
   "id": "47ab266f",
   "metadata": {},
   "source": [
    "# Q.3 Print the result of summtion 2 numbers in 5 different ways"
   ]
  },
  {
   "cell_type": "code",
   "execution_count": 3,
   "id": "ce3acfe3",
   "metadata": {},
   "outputs": [
    {
     "name": "stdout",
     "output_type": "stream",
     "text": [
      "the value of summtion is  11\n",
      "the value of summtion is 11\n",
      "the value of summtion is 11\n",
      "the value of summtion is 11\n",
      "the value of summtion is 10.40\n"
     ]
    }
   ],
   "source": []
  },
  {
   "cell_type": "markdown",
   "id": "70b7aef1",
   "metadata": {},
   "source": [
    "# Q.4 Print practice \n",
    "**please print analysis report for your manager so he want to know** <br>\n",
    "line 1 :number of clients <br>\n",
    "line 2 : amount of profit, total income <br>\n",
    "line 3: the main reasons of loss or profit <br>\n",
    "(Note: assume all number...it is just practice for printing, make the report clear as much as possible, use $ for money and try to insert different symbols to make your report clear)\n"
   ]
  },
  {
   "cell_type": "code",
   "execution_count": 7,
   "id": "289a15b1",
   "metadata": {},
   "outputs": [
    {
     "name": "stdout",
     "output_type": "stream",
     "text": [
      "Totla number of clients =  200 \n",
      "the profit of project =  5000 $\t total income =  20000 $\n",
      "We need more advirtisments\n"
     ]
    }
   ],
   "source": []
  },
  {
   "cell_type": "markdown",
   "id": "2dd76464",
   "metadata": {},
   "source": [
    "# Q.5 Calculator ( 5 marks bouns)\n",
    "**make user insert two numbers and type of operation and print the result**\n"
   ]
  },
  {
   "cell_type": "code",
   "execution_count": null,
   "id": "4e52d576",
   "metadata": {},
   "outputs": [],
   "source": []
  }
 ],
 "metadata": {
  "kernelspec": {
   "display_name": "Python 3 (ipykernel)",
   "language": "python",
   "name": "python3"
  },
  "language_info": {
   "codemirror_mode": {
    "name": "ipython",
    "version": 3
   },
   "file_extension": ".py",
   "mimetype": "text/x-python",
   "name": "python",
   "nbconvert_exporter": "python",
   "pygments_lexer": "ipython3",
   "version": "3.9.12"
  }
 },
 "nbformat": 4,
 "nbformat_minor": 5
}
