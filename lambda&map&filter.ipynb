{
 "cells": [
  {
   "cell_type": "markdown",
   "id": "3de04a4b",
   "metadata": {},
   "source": [
    "#  Lambda"
   ]
  },
  {
   "cell_type": "code",
   "execution_count": 1,
   "id": "48ba5860",
   "metadata": {},
   "outputs": [],
   "source": [
    "def square(x,y):\n",
    "    result=x*y\n",
    "    return(result)"
   ]
  },
  {
   "cell_type": "code",
   "execution_count": 2,
   "id": "26b243ba",
   "metadata": {},
   "outputs": [
    {
     "data": {
      "text/plain": [
       "4"
      ]
     },
     "execution_count": 2,
     "metadata": {},
     "output_type": "execute_result"
    }
   ],
   "source": [
    "square(2,2)"
   ]
  },
  {
   "cell_type": "code",
   "execution_count": 9,
   "id": "cab66677",
   "metadata": {},
   "outputs": [
    {
     "data": {
      "text/plain": [
       "[1, 4, 9, 16, 25, 36]"
      ]
     },
     "execution_count": 9,
     "metadata": {},
     "output_type": "execute_result"
    }
   ],
   "source": [
    "list1=[1,2,3,4,5,6]\n",
    "list2=[]\n",
    "\n",
    "\n",
    "for n in list1 :\n",
    "    x=n**2\n",
    "    list2.append(x)\n",
    "list2\n",
    "    \n"
   ]
  },
  {
   "cell_type": "code",
   "execution_count": 21,
   "id": "7dc14cf7",
   "metadata": {},
   "outputs": [
    {
     "data": {
      "text/plain": [
       "[2, 4, 6, 8, 4, 4, 8]"
      ]
     },
     "execution_count": 21,
     "metadata": {},
     "output_type": "execute_result"
    }
   ],
   "source": [
    "def even_num(num):\n",
    "    return num%2==0\n",
    "lists=[1,2,3,4,5,6,87,8,97,4,4,8,1,65,4979]\n",
    "list1=[]\n",
    "\n",
    "for n in lists:\n",
    "    if even_num(n) == True :\n",
    "        list1.append(n)\n",
    "list1"
   ]
  },
  {
   "cell_type": "markdown",
   "id": "70f53616",
   "metadata": {},
   "source": [
    "## using filter (list & know true or false)"
   ]
  },
  {
   "cell_type": "code",
   "execution_count": 23,
   "id": "aa3b1e27",
   "metadata": {},
   "outputs": [
    {
     "data": {
      "text/plain": [
       "[2, 4, 6, 8]"
      ]
     },
     "execution_count": 23,
     "metadata": {},
     "output_type": "execute_result"
    }
   ],
   "source": [
    " def even_num(num):\n",
    "        return num %2==0\n",
    "nums=[1,2,3,4,5,6,7,8,9]\n",
    "list(filter(even_num , nums))"
   ]
  },
  {
   "cell_type": "markdown",
   "id": "bbb67372",
   "metadata": {},
   "source": [
    "## check name"
   ]
  },
  {
   "cell_type": "code",
   "execution_count": 25,
   "id": "f9bf55fc",
   "metadata": {},
   "outputs": [
    {
     "data": {
      "text/plain": [
       "['ahmed', 'rewan', 'tamar']"
      ]
     },
     "execution_count": 25,
     "metadata": {},
     "output_type": "execute_result"
    }
   ],
   "source": [
    "def check_name(name):\n",
    "    return len (name) == 5\n",
    "\n",
    "names = ['ahmed','rewan','rezk','tamar']\n",
    "list(filter(check_name , names))"
   ]
  },
  {
   "cell_type": "code",
   "execution_count": 31,
   "id": "2852b217",
   "metadata": {},
   "outputs": [
    {
     "data": {
      "text/plain": [
       "['rawan']"
      ]
     },
     "execution_count": 31,
     "metadata": {},
     "output_type": "execute_result"
    }
   ],
   "source": [
    "name=['rawan','rezk','fgs','kj']\n",
    "list(filter(lambda name : len(name)==5 ,name))"
   ]
  },
  {
   "cell_type": "code",
   "execution_count": 32,
   "id": "eab7741c",
   "metadata": {},
   "outputs": [
    {
     "data": {
      "text/plain": [
       "<function __main__.<lambda>(name)>"
      ]
     },
     "execution_count": 32,
     "metadata": {},
     "output_type": "execute_result"
    }
   ],
   "source": [
    "x"
   ]
  },
  {
   "cell_type": "markdown",
   "id": "3a1f8031",
   "metadata": {},
   "source": [
    "# using Lambda with this function\n"
   ]
  },
  {
   "cell_type": "code",
   "execution_count": 6,
   "id": "1cc7f1e5",
   "metadata": {},
   "outputs": [],
   "source": [
    "#ex1\n",
    "x= lambda num1,num2 :num1**num2"
   ]
  },
  {
   "cell_type": "code",
   "execution_count": 7,
   "id": "f5339eb0",
   "metadata": {},
   "outputs": [
    {
     "data": {
      "text/plain": [
       "1"
      ]
     },
     "execution_count": 7,
     "metadata": {},
     "output_type": "execute_result"
    }
   ],
   "source": [
    "x(1,2)"
   ]
  },
  {
   "cell_type": "code",
   "execution_count": 10,
   "id": "88618726",
   "metadata": {},
   "outputs": [],
   "source": [
    "#ex2  list comp\n",
    "x=[i**2 for i in [1,2,3,4,5,6]]"
   ]
  },
  {
   "cell_type": "code",
   "execution_count": 11,
   "id": "ba061862",
   "metadata": {},
   "outputs": [
    {
     "data": {
      "text/plain": [
       "[1, 4, 9, 16, 25, 36]"
      ]
     },
     "execution_count": 11,
     "metadata": {},
     "output_type": "execute_result"
    }
   ],
   "source": [
    "x"
   ]
  },
  {
   "cell_type": "markdown",
   "id": "c9be9827",
   "metadata": {},
   "source": [
    "# using map (in ex2) square num"
   ]
  },
  {
   "cell_type": "code",
   "execution_count": 13,
   "id": "cf1e8014",
   "metadata": {},
   "outputs": [
    {
     "data": {
      "text/plain": [
       "[1, 4, 9, 1, 4, 9, 25, 225, 81]"
      ]
     },
     "execution_count": 13,
     "metadata": {},
     "output_type": "execute_result"
    }
   ],
   "source": [
    "def square(num):\n",
    "    return num**2\n",
    "\n",
    "\n",
    "num=[1,2,3,1,2,3,5,15,9]\n",
    "\n",
    "list(map(square,num))"
   ]
  },
  {
   "cell_type": "markdown",
   "id": "fa65dad5",
   "metadata": {},
   "source": [
    "# map take the function and the list or the number in the list"
   ]
  },
  {
   "cell_type": "code",
   "execution_count": 18,
   "id": "d538f9c2",
   "metadata": {},
   "outputs": [
    {
     "data": {
      "text/plain": [
       "[5, 7, 9, 5, 9, 11]"
      ]
     },
     "execution_count": 18,
     "metadata": {},
     "output_type": "execute_result"
    }
   ],
   "source": [
    "def sum(num1,num2):\n",
    "    return(num1+num2)\n",
    "num1=[1,2,3,1,2,3]\n",
    "num2=[4,5,6,4,7,8]\n",
    "list(map(sum,num1,num2))"
   ]
  },
  {
   "cell_type": "code",
   "execution_count": null,
   "id": "cda533a7",
   "metadata": {},
   "outputs": [],
   "source": []
  }
 ],
 "metadata": {
  "kernelspec": {
   "display_name": "Python 3 (ipykernel)",
   "language": "python",
   "name": "python3"
  },
  "language_info": {
   "codemirror_mode": {
    "name": "ipython",
    "version": 3
   },
   "file_extension": ".py",
   "mimetype": "text/x-python",
   "name": "python",
   "nbconvert_exporter": "python",
   "pygments_lexer": "ipython3",
   "version": "3.9.12"
  }
 },
 "nbformat": 4,
 "nbformat_minor": 5
}
