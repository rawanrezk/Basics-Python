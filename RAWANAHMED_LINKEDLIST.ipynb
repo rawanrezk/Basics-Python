{
 "cells": [
  {
   "cell_type": "code",
   "execution_count": 1,
   "id": "09c029e4",
   "metadata": {},
   "outputs": [],
   "source": [
    "#****************************************************#\n",
    "#*   AUTHOR      :   rawan ahmed ibrahim mohmed rezk\n",
    "                     #روان احمد ابراهيم محمد رزق\n",
    "#*   Description : Singly Linked Lists              *#\n",
    "#*   DATE        :   Nov 2022                       *#\n",
    "#*   VERSION     : V01                              *#\n",
    "#****************************************************#\n",
    "\n"
   ]
  },
  {
   "cell_type": "markdown",
   "id": "4aa32149",
   "metadata": {},
   "source": [
    "#    Description : Singly Linked Lists\n"
   ]
  },
  {
   "cell_type": "markdown",
   "id": "c8d91060",
   "metadata": {},
   "source": [
    "السلام عليكم يا دكتور انا الفتره دي بستخدم jupyter لان visul is not working in my lap ان شاء الله هحاول من ال معمل القادم اظبطه \n",
    "شكرا"
   ]
  },
  {
   "cell_type": "code",
   "execution_count": 13,
   "id": "b17b31bb",
   "metadata": {},
   "outputs": [],
   "source": [
    "\n",
    "class Node:\n",
    "    def __init__(self, dataval=None):\n",
    "        self.dataval = dataval\n",
    "        self.nextval = None\n",
    "\n",
    "class SLinkedList:\n",
    "    def __init__(self):\n",
    "        self.headval = None\n",
    "\n",
    "list1 = SLinkedList()\n",
    "list1.headval = Node(\"Mon\")\n",
    "e2 = Node(\"Tue\")\n",
    "e3 = Node(\"Wed\")\n",
    "# Link first Node to second node\n",
    "list1.headval.nextval = e2\n",
    "\n",
    "# Link second Node to third node\n",
    "e2.nextval = e3"
   ]
  },
  {
   "cell_type": "code",
   "execution_count": 14,
   "id": "f64ff5ec",
   "metadata": {},
   "outputs": [
    {
     "name": "stdout",
     "output_type": "stream",
     "text": [
      "Mon\n",
      "Tue\n",
      "Wed\n"
     ]
    }
   ],
   "source": [
    "class Node:\n",
    "    def __init__(self, dataval=None):\n",
    "        self.dataval = dataval\n",
    "        self.nextval = None\n",
    "\n",
    "class SLinkedList:\n",
    "    def __init__(self):\n",
    "        self.headval = None\n",
    "\n",
    "    def listprint(self):\n",
    "        printval = self.headval\n",
    "        while printval is not None:\n",
    "            print (printval.dataval)\n",
    "            printval = printval.nextval\n",
    "\n",
    "list = SLinkedList()\n",
    "list.headval = Node(\"Mon\")\n",
    "e2 = Node(\"Tue\")\n",
    "e3 = Node(\"Wed\")\n",
    "\n",
    "# Link first Node to second node\n",
    "list.headval.nextval = e2\n",
    "\n",
    "# Link second Node to third node\n",
    "e2.nextval = e3\n",
    "\n",
    "list.listprint()\n"
   ]
  },
  {
   "cell_type": "code",
   "execution_count": null,
   "id": "a348b013",
   "metadata": {},
   "outputs": [],
   "source": []
  },
  {
   "cell_type": "code",
   "execution_count": null,
   "id": "4a41c4ce",
   "metadata": {},
   "outputs": [],
   "source": [
    "\n"
   ]
  },
  {
   "cell_type": "code",
   "execution_count": null,
   "id": "f23621d8",
   "metadata": {},
   "outputs": [],
   "source": []
  },
  {
   "cell_type": "code",
   "execution_count": null,
   "id": "5fe5bc2e",
   "metadata": {},
   "outputs": [],
   "source": []
  }
 ],
 "metadata": {
  "kernelspec": {
   "display_name": "Python 3 (ipykernel)",
   "language": "python",
   "name": "python3"
  },
  "language_info": {
   "codemirror_mode": {
    "name": "ipython",
    "version": 3
   },
   "file_extension": ".py",
   "mimetype": "text/x-python",
   "name": "python",
   "nbconvert_exporter": "python",
   "pygments_lexer": "ipython3",
   "version": "3.9.12"
  }
 },
 "nbformat": 4,
 "nbformat_minor": 5
}
